{
 "cells": [
  {
   "cell_type": "code",
   "execution_count": 354,
   "metadata": {},
   "outputs": [],
   "source": [
    "from pyvis.network import Network\n",
    "import pandas as pd"
   ]
  },
  {
   "cell_type": "code",
   "execution_count": 355,
   "metadata": {},
   "outputs": [],
   "source": [
    "strutture = pd.read_csv(\"docs/strutture/elenco_strutture.csv\",sep=\";\")"
   ]
  },
  {
   "cell_type": "code",
   "execution_count": 356,
   "metadata": {},
   "outputs": [],
   "source": [
    "strutture = strutture.reset_index()"
   ]
  },
  {
   "cell_type": "code",
   "execution_count": 357,
   "metadata": {},
   "outputs": [],
   "source": [
    "strutture.rename(columns={\"index\":\"idnode\"},inplace=True)"
   ]
  },
  {
   "cell_type": "code",
   "execution_count": 358,
   "metadata": {},
   "outputs": [],
   "source": [
    "relazioni = pd.read_csv(\"docs/strutture/relazioni_fra_strutture.csv\",sep=\";\")"
   ]
  },
  {
   "cell_type": "code",
   "execution_count": 359,
   "metadata": {},
   "outputs": [],
   "source": [
    "net = Network()\n",
    "net = Network(height='100%', width='100%', bgcolor='#222222', font_color='white')\n",
    "#net.barnes_hut()\n",
    "#net.force_atlas_2based\n",
    "for idx, row in strutture.iterrows():\n",
    "    net.add_node(int(row[\"idnode\"]), label=row[\"nome\"]) #,x=row['longitudine'],y=row['latitudine'])"
   ]
  },
  {
   "cell_type": "code",
   "execution_count": 360,
   "metadata": {},
   "outputs": [],
   "source": [
    "def getNodeID(nome,strutture):\n",
    "    if (strutture[strutture.nome == nome].shape[0] > 0):\n",
    "        idx = strutture[strutture.nome==nome].idnode.values[0]\n",
    "    else:\n",
    "        idx = -1\n",
    "    return int(idx)"
   ]
  },
  {
   "cell_type": "code",
   "execution_count": 361,
   "metadata": {},
   "outputs": [],
   "source": [
    "for idx, row in relazioni.iterrows():\n",
    "    struttura = getNodeID(row['struttura'],strutture)\n",
    "    struttura_collegata = getNodeID(row['struttura_collegata'],strutture)\n",
    "    if (struttura > -1 and struttura_collegata > -1):\n",
    "        net.add_edge(struttura,struttura_collegata)"
   ]
  },
  {
   "cell_type": "code",
   "execution_count": 362,
   "metadata": {},
   "outputs": [],
   "source": [
    "#net.show_buttons(filter_=['physics'])\n",
    "#net.enable_physics(True)"
   ]
  },
  {
   "cell_type": "code",
   "execution_count": 363,
   "metadata": {},
   "outputs": [],
   "source": [
    "net.show(\"docs/strutture/index.html\")"
   ]
  }
 ],
 "metadata": {
  "interpreter": {
   "hash": "e7370f93d1d0cde622a1f8e1c04877d8463912d04d973331ad4851f04de6915a"
  },
  "kernelspec": {
   "display_name": "Python 3.9.7 64-bit",
   "language": "python",
   "name": "python3"
  },
  "language_info": {
   "codemirror_mode": {
    "name": "ipython",
    "version": 3
   },
   "file_extension": ".py",
   "mimetype": "text/x-python",
   "name": "python",
   "nbconvert_exporter": "python",
   "pygments_lexer": "ipython3",
   "version": "3.9.7"
  },
  "orig_nbformat": 4
 },
 "nbformat": 4,
 "nbformat_minor": 2
}
