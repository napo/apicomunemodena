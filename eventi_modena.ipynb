{
 "cells": [
  {
   "cell_type": "code",
   "execution_count": 9,
   "metadata": {},
   "outputs": [],
   "source": [
    "import warnings\n",
    "import pandas as pd\n",
    "import requests\n",
    "import geopandas as gpd\n",
    "from datetime import date\n",
    "from zipfile import ZipFile\n",
    "import os\n",
    "warnings.filterwarnings(\"ignore\")"
   ]
  },
  {
   "cell_type": "code",
   "execution_count": 10,
   "metadata": {},
   "outputs": [],
   "source": [
    "intestazione = {'Accept': 'application/json'}\n",
    "url_api = \"https://www.comune.modena.it/api/\"\n",
    "url_search = url_api + \"@querystring-search\""
   ]
  },
  {
   "cell_type": "code",
   "execution_count": 11,
   "metadata": {},
   "outputs": [],
   "source": [
    "def getParams(from_day, to_day):\n",
    "\tparametri = {\n",
    "\t\t\"b_size\": 100000,\n",
    "\t\t\"fullobjects\": 1,\n",
    "\t\t\"query\": [{\n",
    "\t\t\t\t\"i\": \"portal_type\",\n",
    "\t\t\t\t\t\"o\": \"plone.app.querystring.operation.selection.any\",\n",
    "\t\t\t\t\t\"v\": [\"Event\"]\n",
    "\t\t}, {\n",
    "\t\t\t\t\"i\": \"start\",\n",
    "\t\t\t\t\t\"o\": \"plone.app.querystring.operation.date.largerThan\",\n",
    "\t\t\t\t\t\"v\": from_day\n",
    "\t\t}, {\n",
    "\t\t\t\t\"i\": \"end\",\n",
    "\t\t\t\t\"o\": \"plone.app.querystring.operation.date.lessThan\",\n",
    "\t\t\t\t\"v\": to_day\n",
    "\t\t}\n",
    "\t\t\t]\n",
    "\t}\n",
    "\treturn(parametri)\n"
   ]
  },
  {
   "cell_type": "code",
   "execution_count": 12,
   "metadata": {},
   "outputs": [],
   "source": [
    "da_anno = \"2019\"\n",
    "ultimo_giorno_anno = \"-12-31 00:00\"\n",
    "primo_giorno_anno = \"-01-31 00:00\""
   ]
  },
  {
   "cell_type": "code",
   "execution_count": 13,
   "metadata": {},
   "outputs": [],
   "source": [
    "oggi = date.today()"
   ]
  },
  {
   "cell_type": "code",
   "execution_count": 14,
   "metadata": {},
   "outputs": [],
   "source": [
    "anno_attuale = str(oggi.year)\n",
    "mese_attuale = str(oggi.month)\n",
    "giorno_attuale = str(oggi.day)"
   ]
  },
  {
   "cell_type": "code",
   "execution_count": 15,
   "metadata": {},
   "outputs": [],
   "source": [
    "def recuperaDati(url_search,intestazione,parametri):\n",
    "    richiesta = requests.post(url_search, headers=intestazione,json=parametri)\n",
    "    richiesta.encoding = 'utf-8'\n",
    "    dati = richiesta.json()\n",
    "    return(pd.DataFrame(dati['items']))\n"
   ]
  },
  {
   "cell_type": "code",
   "execution_count": 16,
   "metadata": {},
   "outputs": [],
   "source": [
    "eventi_df = []\n",
    "for anno in range(2019,int(anno_attuale)+1):\n",
    "    da = str(anno)+primo_giorno_anno\n",
    "    a = str(anno)+ultimo_giorno_anno\n",
    "    data = recuperaDati(url_search,intestazione,getParams(da,a))\n",
    "    eventi_df.append(data)"
   ]
  },
  {
   "cell_type": "code",
   "execution_count": null,
   "metadata": {},
   "outputs": [],
   "source": [
    "eventi = None\n",
    "for i in range(len(eventi_df)):\n",
    "    if i == 0:\n",
    "        eventi = eventi_df[0]\n",
    "    else:\n",
    "        eventi = eventi.append(eventi_df[i])"
   ]
  },
  {
   "cell_type": "code",
   "execution_count": null,
   "metadata": {},
   "outputs": [],
   "source": [
    "filter=['@id','categoria_evento','city','street','created',\n",
    "'description','effective','email','start','end','geolocation','image','image_caption','modified','nome_sede',\n",
    "'orari','patrocinato_da','prezzo','reperibilita','telefono','title',\n",
    "'ulteriori_informazioni','web','whole_day','zip_code']"
   ]
  },
  {
   "cell_type": "code",
   "execution_count": null,
   "metadata": {},
   "outputs": [],
   "source": [
    "eventi = eventi[filter]\n",
    "eventi['pagina_web'] = eventi['@id'].apply(lambda x: x.replace('/api', \"\"))\n",
    "del eventi['@id']\n",
    "eventi['cap'] = eventi.zip_code.apply(lambda x: 41123 if(x == None) else x)\n",
    "del eventi['cap']\n"
   ]
  },
  {
   "cell_type": "code",
   "execution_count": null,
   "metadata": {},
   "outputs": [],
   "source": [
    "eventi = eventi.rename(columns={'title': 'nome', \"street\": \"via\",\n",
    "                       \"zip_code\": \"cap\", \"modified\": \"data_ultima_modifica\"})\n",
    "eventi = eventi.rename(columns={'city': 'città', \"street\": \"via\", \"description\": \"descrizione\",\n",
    "                       \"created\": \"data_creazione\", \"end\": \"fine\", \"start\": \"inizio\"})\n",
    "eventi = eventi.rename(\n",
    "    columns={'image': 'immagine', 'whole_day': 'giornata_intera'})\n",
    "eventi = eventi.rename(columns={'ulteriori_informazioni': 'extrainfo'})\n",
    "#events=events.rename(columns={'organizzato_da_esterno':'org_esterna'})\n",
    "#events=events.rename(columns={\"descrizione_estesa\":\"desc_estesa\"})\n"
   ]
  },
  {
   "cell_type": "code",
   "execution_count": null,
   "metadata": {},
   "outputs": [],
   "source": [
    "eventi['latitudine'] = eventi.geolocation.apply(\n",
    "    lambda x:  x['latitude'] if(x != None) else x)\n",
    "eventi['longitudine'] = eventi.geolocation.apply(\n",
    "    lambda x:  x['longitude'] if(x != None) else x)\n",
    "eventi['longitudine'] = eventi.longitudine.apply(\n",
    "    lambda x: 10.92572 if(x == None) else x)\n",
    "eventi['latitudine'] = eventi.latitudine.apply(\n",
    "    lambda x: 44.64582 if(x == None) else x)\n",
    "eventi['longitudine'] = eventi.longitudine.apply(\n",
    "    lambda x: 10.92572 if(x == 0) else x)\n",
    "eventi['latitudine'] = eventi.latitudine.apply(\n",
    "    lambda x: 44.64582 if(x == 0) else x)\n",
    "eventi['longitudine'] = eventi.longitudine.apply(\n",
    "    lambda x: 10.92572 if(pd.isna(x)) else x)\n",
    "eventi['latitudine'] = eventi.latitudine.apply(\n",
    "    lambda x: 44.64582 if(pd.isna(x)) else x)\n",
    "del eventi['geolocation']"
   ]
  },
  {
   "cell_type": "code",
   "execution_count": null,
   "metadata": {},
   "outputs": [],
   "source": [
    "def categoriaEvento(e):\n",
    "    categoria = \"\"\n",
    "    for c in e:\n",
    "        categoria = categoria + \",\" + c\n",
    "    categoria = categoria.lstrip(\",\")\n",
    "    return categoria\n",
    "\n",
    "\n",
    "eventi['categoria_evento'] = eventi['categoria_evento'].apply(\n",
    "    lambda x: categoriaEvento(x))"
   ]
  },
  {
   "cell_type": "code",
   "execution_count": null,
   "metadata": {},
   "outputs": [],
   "source": [
    "def desc(value):\n",
    "    desc = \"\"\n",
    "    try:\n",
    "        for i in range(len(value['blocks'])):\n",
    "            for k in list(value['blocks'].keys()):\n",
    "                bk = value['blocks'][k]\n",
    "                for b in bk['text']['blocks']:\n",
    "                    desc = desc + \" \" + b['text']\n",
    "    except KeyError:\n",
    "        pass\n",
    "    desc = desc.replace(\";\", \" \")\n",
    "    return desc"
   ]
  },
  {
   "cell_type": "code",
   "execution_count": null,
   "metadata": {},
   "outputs": [],
   "source": [
    "eventi['extrainfo'] = eventi['extrainfo'].apply(lambda x: desc(x))\n",
    "eventi['immagine'] = eventi['immagine'].apply(lambda x: x['download'])\n",
    "eventi.rename(columns={'image_caption': 'desc_img'}, inplace=True)\n",
    "eventi.rename(columns={'effective': 'data_pubblicazione'}, inplace=True)\n",
    "eventi['prezzo'] = eventi['prezzo'].apply(lambda x: desc(x))\n",
    "eventi['orari'] = eventi['orari'].apply(lambda x: desc(x))\n"
   ]
  },
  {
   "cell_type": "code",
   "execution_count": null,
   "metadata": {},
   "outputs": [],
   "source": [
    "eventi['cap'] = eventi.cap.apply(lambda x: 41123 if(x == None) else x)"
   ]
  },
  {
   "cell_type": "code",
   "execution_count": null,
   "metadata": {},
   "outputs": [],
   "source": [
    "eventi.web = eventi.web.apply(lambda x: \"\" if (str(x) == \"[]\") else x)\n",
    "eventi.web = eventi.web.apply(lambda x: \"\" if (x == None) else x)"
   ]
  },
  {
   "cell_type": "code",
   "execution_count": null,
   "metadata": {},
   "outputs": [],
   "source": [
    "eventi['città'] = eventi['città'].apply(lambda x: \"Modena\" if(x == None) else x)"
   ]
  },
  {
   "cell_type": "code",
   "execution_count": null,
   "metadata": {},
   "outputs": [],
   "source": [
    "eventi.replace(to_replace=[r\"\\\\t|\\\\n|\\\\r\", \"\\t|\\n|\\r\"], value=[\"\",\"\"], regex=True, inplace=True)"
   ]
  },
  {
   "cell_type": "code",
   "execution_count": null,
   "metadata": {},
   "outputs": [],
   "source": [
    "eventi.drop_duplicates(inplace=True)"
   ]
  },
  {
   "cell_type": "code",
   "execution_count": null,
   "metadata": {},
   "outputs": [],
   "source": [
    "eventi.to_csv(\"docs/eventi/eventi_modena.csv\",sep=\";\",index=False)\n",
    "#eventi.to_csv(\"eventi_modena.csv\",sep=\";\",index=False)"
   ]
  },
  {
   "cell_type": "code",
   "execution_count": null,
   "metadata": {},
   "outputs": [],
   "source": [
    "eventi.to_csv(\"docs/eventi/eventi_modena.tsv\",sep=\"\\t\",index=False,line_terminator=\"\\r\\n\")"
   ]
  },
  {
   "cell_type": "code",
   "execution_count": null,
   "metadata": {},
   "outputs": [],
   "source": [
    "geo_events = gpd.GeoDataFrame(\n",
    "    eventi, geometry=gpd.points_from_xy(eventi['longitudine'], eventi['latitudine']))\n"
   ]
  },
  {
   "cell_type": "code",
   "execution_count": null,
   "metadata": {},
   "outputs": [],
   "source": [
    "geo_events.set_crs(4326, inplace=True)\n",
    "os.chdir(\"docs/eventi\")\n",
    "geo_events.to_file(\"eventi_modena.shp\", encoding='utf-8')\n",
    "zipObj = ZipFile('eventi_modena.zip', 'w')\n",
    "zipObj.write('eventi_modena.shp')\n",
    "zipObj.write('eventi_modena.shx')\n",
    "zipObj.write('eventi_modena.prj')\n",
    "zipObj.write('eventi_modena.dbf')\n",
    "zipObj.close()\n"
   ]
  },
  {
   "cell_type": "code",
   "execution_count": null,
   "metadata": {},
   "outputs": [],
   "source": [
    "eventi.longitudine = eventi.longitudine.apply(lambda x: str(x).replace(\".\",\",\"))\n",
    "eventi.latitudine = eventi.latitudine.apply(lambda x: str(x).replace(\".\",\",\"))"
   ]
  },
  {
   "cell_type": "code",
   "execution_count": null,
   "metadata": {},
   "outputs": [],
   "source": [
    "eventi.to_csv(\"eventi_modena_coordinate_con_virgola.csv\",sep=\";\",index=False)"
   ]
  },
  {
   "cell_type": "code",
   "execution_count": null,
   "metadata": {},
   "outputs": [],
   "source": [
    "eventi.to_excel(\"eventi_modena.xlsx\",index=False, sheet_name=\"eventi\")"
   ]
  }
 ],
 "metadata": {
  "kernelspec": {
   "display_name": "Python 3.10.4 64-bit",
   "language": "python",
   "name": "python3"
  },
  "language_info": {
   "codemirror_mode": {
    "name": "ipython",
    "version": 3
   },
   "file_extension": ".py",
   "mimetype": "text/x-python",
   "name": "python",
   "nbconvert_exporter": "python",
   "pygments_lexer": "ipython3",
   "version": "3.10.4"
  },
  "orig_nbformat": 4,
  "vscode": {
   "interpreter": {
    "hash": "31f2aee4e71d21fbe5cf8b01ff0e069b9275f58929596ceb00d14d90e3e16cd6"
   }
  }
 },
 "nbformat": 4,
 "nbformat_minor": 2
}
