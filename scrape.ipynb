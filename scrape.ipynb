{
  "cells": [
    {
      "cell_type": "code",
      "execution_count": 121,
      "metadata": {
        "id": "Ynia3iEkkvjg"
      },
      "outputs": [],
      "source": [
        "# -*- coding: utf-8 -*-"
      ]
    },
    {
      "cell_type": "code",
      "execution_count": 122,
      "metadata": {
        "id": "0h7be-T8k3mP"
      },
      "outputs": [],
      "source": [
        "#!pip install geopandas"
      ]
    },
    {
      "cell_type": "code",
      "execution_count": 123,
      "metadata": {
        "id": "WmyEy1B5kvjs"
      },
      "outputs": [],
      "source": [
        "import pandas as pd\n",
        "import requests\n",
        "import geopandas as gpd\n",
        "from datetime import date\n",
        "from zipfile import ZipFile\n",
        "import os\n",
        "headers = {'Accept': 'application/json', 'Content-Type': 'application/json'}"
      ]
    },
    {
      "cell_type": "code",
      "execution_count": 124,
      "metadata": {
        "id": "GHTC-0Xukvj0"
      },
      "outputs": [],
      "source": [
        "today = date.today()\n",
        "today_str = today.strftime(\"%Y-%m-%d\")\n",
        "today_str += \" 00:00\""
      ]
    },
    {
      "cell_type": "code",
      "execution_count": 125,
      "metadata": {
        "id": "QClhc_82kvj5"
      },
      "outputs": [],
      "source": [
        "url=\"https://www.comune.modena.it/api/@querystring-search\""
      ]
    },
    {
      "cell_type": "code",
      "execution_count": 126,
      "metadata": {
        "id": "F4umfHkzkvj9"
      },
      "outputs": [],
      "source": [
        "subdata = {\"i\":\"portal_type\",\"o\":\"plone.app.querystring.operation.selection.any\",\"v\":[\"Event\"]}\n",
        "subdata_2 = {\"i\":\"start\",\"o\":\"plone.app.querystring.operation.date.largerThan\",\"v\":today_str}\n",
        "d = [subdata,subdata_2]\n",
        "data={'fullobjects': '1',\"query\":d}"
      ]
    },
    {
      "cell_type": "code",
      "execution_count": 127,
      "metadata": {
        "id": "GQSN4tACkvkC"
      },
      "outputs": [],
      "source": [
        "r = requests.post(url, headers=headers,json={\"b_size\":10000,\"fullobjects\":1,\"query\":[{\"i\":\"portal_type\",\"o\":\"plone.app.querystring.operation.selection.any\",\"v\":[\"Event\"]},{\"i\":\"start\",\"o\":\"plone.app.querystring.operation.date.largerThan\",\"v\":\"2019-01-01 00:00\"}]})"
      ]
    },
    {
      "cell_type": "code",
      "execution_count": 128,
      "metadata": {
        "id": "UMg2HS8hkvkI"
      },
      "outputs": [],
      "source": [
        "#r = requests.post(url, headers=headers,json=data)})"
      ]
    },
    {
      "cell_type": "code",
      "execution_count": 129,
      "metadata": {
        "id": "WUd1KN0rkvkM"
      },
      "outputs": [],
      "source": [
        "#r.encoding = 'ISO 8859-1'\n",
        "r.encoding = 'utf-8'\n",
        "data_scraped = r.json()"
      ]
    },
    {
      "cell_type": "code",
      "execution_count": 130,
      "metadata": {
        "id": "iPPMqb_vkvkR"
      },
      "outputs": [],
      "source": [
        "events = pd.DataFrame(data_scraped['items'])"
      ]
    },
    {
      "cell_type": "code",
      "execution_count": 131,
      "metadata": {
        "id": "aYB0XuH8kvkZ"
      },
      "outputs": [],
      "source": [
        "# categoria_evento => è una lista\n",
        "# city => alcune volte è vuoto\n",
        "# descrizione_destinatari => va letto meglio\n",
        "# descrizione_estesa => va pulito \n",
        "# image => pulire\n",
        "# geolocaton => pulire\n",
        "# orari => pulire\n",
        "# organizzato_da_esterno => pulire\n",
        "# prezzo => pulire\n",
        "# ulteriori_informazioni => pulire\n",
        "#filter=['UID', '@id','categoria_evento','city','street','created',\n",
        "#'description','descrizione_estesa',\n",
        "#'effective','email','start','end','geolocation','image','image_caption','modified','nome_sede',\n",
        "#'orari','organizzato_da_esterno','patrocinato_da','prezzo','reperibilita','telefono','title',\n",
        "#'ulteriori_informazioni','web','whole_day','zip_code']\n",
        "\n",
        "filter=['@id','categoria_evento','city','street','created',\n",
        "'description','effective','email','start','end','geolocation','image','image_caption','modified','nome_sede',\n",
        "'orari','patrocinato_da','prezzo','reperibilita','telefono','title',\n",
        "'ulteriori_informazioni','web','whole_day','zip_code']"
      ]
    },
    {
      "cell_type": "code",
      "execution_count": 132,
      "metadata": {
        "id": "Q3IgtWJakvki"
      },
      "outputs": [],
      "source": [
        "events = events[filter]\n",
        "events['pagina_web'] = events['@id'].apply(lambda x: x.replace('/api',\"\"))\n",
        "del events['@id']\n",
        "events['cap'] = events.zip_code.apply(lambda x: 41123 if(x == None) else x)\n",
        "del events['cap']"
      ]
    },
    {
      "cell_type": "code",
      "execution_count": 133,
      "metadata": {
        "id": "ZZPzJ41gkvkp"
      },
      "outputs": [],
      "source": [
        "events= events.rename(columns={'title':'nome',\"street\":\"via\",\"zip_code\":\"cap\",\"modified\":\"data_ultima_modifica\"})\n",
        "events= events.rename(columns={'city':'città',\"street\":\"via\",\"description\":\"descrizione\",\"created\":\"data_creazione\",\"end\":\"fine\",\"start\":\"inizio\"})\n",
        "events= events.rename(columns={'image':'immagine','whole_day':'giornata_intera'})\n",
        "events= events.rename(columns={'ulteriori_informazioni':'extrainfo'})\n",
        "#events=events.rename(columns={'organizzato_da_esterno':'org_esterna'})\n",
        "#events=events.rename(columns={\"descrizione_estesa\":\"desc_estesa\"})"
      ]
    },
    {
      "cell_type": "code",
      "execution_count": 134,
      "metadata": {
        "id": "zABjSGLCkvkr"
      },
      "outputs": [],
      "source": [
        "import numpy as np\n",
        "events['latitudine']= events.geolocation.apply(lambda x:  x['latitude'] if(x != None) else x)\n",
        "events['longitudine']= events.geolocation.apply(lambda x:  x['longitude'] if(x != None) else x)\n",
        "events['longitudine']= events.longitudine.apply(lambda x: 10.92572 if(x == None) else x)\n",
        "events['latitudine']= events.latitudine.apply(lambda x: 44.64582 if(x == None) else x)\n",
        "events['longitudine']= events.longitudine.apply(lambda x: 10.92572 if(x == 0) else x)\n",
        "events['latitudine']= events.latitudine.apply(lambda x: 44.64582 if(x == 0) else x)\n",
        "events['longitudine']= events.longitudine.apply(lambda x: 10.92572 if(x == np.nan) else x)\n",
        "events['latitudine']= events.latitudine.apply(lambda x: 44.64582 if(x == np.nan) else x)\n",
        "del events['geolocation']"
      ]
    },
    {
      "cell_type": "code",
      "execution_count": 135,
      "metadata": {
        "id": "3sGV_JlMkvkv"
      },
      "outputs": [],
      "source": [
        "def categoriaEvento(e):\n",
        "    categoria=\"\"\n",
        "    for c in e:\n",
        "        categoria = categoria + \",\" + c \n",
        "    categoria = categoria.lstrip(\",\")\n",
        "    return categoria\n",
        "events['categoria_evento'] = events['categoria_evento'].apply(lambda x: categoriaEvento(x))"
      ]
    },
    {
      "cell_type": "code",
      "execution_count": 136,
      "metadata": {
        "id": "XABF1yq3kvky"
      },
      "outputs": [],
      "source": [
        "def desc(value):\n",
        "    desc = \"\"\n",
        "    try:\n",
        "        for i in range(len(value['blocks'])):\n",
        "            for k in list(value['blocks'].keys()):\n",
        "                bk= value['blocks'][k]\n",
        "                for b in bk['text']['blocks']:\n",
        "                    desc = desc + \" \"+ b['text']\n",
        "    except KeyError:\n",
        "        pass\n",
        "    desc = desc.replace(\";\",\" \")\n",
        "    return desc  "
      ]
    },
    {
      "cell_type": "code",
      "execution_count": 137,
      "metadata": {
        "id": "eWtVQPAukvk0"
      },
      "outputs": [],
      "source": [
        "#events['desc_estesa'] = events['desc_estesa'].apply(lambda x: desc(x))\n",
        "events['extrainfo'] = events['extrainfo'].apply(lambda x: desc(x))\n",
        "events['immagine'] = events['immagine'].apply(lambda x: x['download'])\n",
        "events.rename(columns={'image_caption':'desc_img'},inplace=True)  \n",
        "events.rename(columns={'effective':'data_pubblicazione'},inplace=True)     \n",
        "events['prezzo'] = events['prezzo'].apply(lambda x: desc(x)) \n",
        "events['orari'] = events['orari'].apply(lambda x: desc(x))\n",
        "#events['org_esterna'] = events['org_esterna'].apply(lambda x: desc(x))\n",
        "#events.desc_estesa = events.desc_estesa.apply(lambda x: x.lstrip(\"\\n\"))"
      ]
    },
    {
      "cell_type": "code",
      "execution_count": 138,
      "metadata": {
        "id": "m6bmzCiNkvk4"
      },
      "outputs": [],
      "source": [
        "events.web = events.web.apply(lambda x: \"\" if (str(x) == \"[]\") else x)\n",
        "events.web = events.web.apply(lambda x: \"\" if (x == None) else x)"
      ]
    },
    {
      "cell_type": "code",
      "execution_count": 139,
      "metadata": {
        "id": "-jL4X_Ojkvk7"
      },
      "outputs": [],
      "source": [
        "events['descrizione'] = events.descrizione.str.lstrip(\"\\n\")\n",
        "events['descrizione'] = events.descrizione.str.lstrip(\" \")\n",
        "events['descrizione'] = events.descrizione.str.replace(\" \\xa0 \",\"\").replace(\"\\n\\n\",\"\\n\").replace(\";\",\" \")\n",
        "events['descrizione'] = events.descrizione.str.replace(\"\\n\",\" \").replace(\"\\t\",\" \").replace(\"\\r\",\"\")\n",
        "events['descrizione'] = events.descrizione.str.lstrip(\" \")\n",
        "events['descrizione'] = events.descrizione.str.lstrip(\" \")\n",
        "events['descrizione'] = events.descrizione.str.replace(\"“\",\"\").replace(\"”\",\"\")"
      ]
    },
    {
      "cell_type": "code",
      "execution_count": 140,
      "metadata": {
        "id": "Vnz6IdbnkvlA"
      },
      "outputs": [],
      "source": [
        "#events[\"desc_estesa\"] = events['desc_estesa'].str.replace(\"\\n\\n\",\"\\n\").replace(\";\",\" \")\n",
        "#events[\"desc_estesa\"] = events['desc_estesa'].str.lstrip(\" \")  \n",
        "#events[\"desc_estesa\"] = events['desc_estesa'].str.lstrip(\" \\n \")  \n",
        "#events[\"desc_estesa\"] = events['desc_estesa'].str.lstrip(\" \")\n",
        "#events[\"desc_estesa\"] = events['desc_estesa'].str.replace(\"\\n\",\" \").replace(\"\\t\",\" \")\n",
        "#events['desc_estesa'] = events.desc_estesa.str.replace(\"“\",\"\").replace(\"”\",\"\")"
      ]
    },
    {
      "cell_type": "code",
      "execution_count": 141,
      "metadata": {
        "id": "2yMe248MkvlE"
      },
      "outputs": [],
      "source": [
        "events[\"orari\"] = events['orari'].str.lstrip(\" \")\n",
        "events[\"orari\"] = events['orari'].str.lstrip(\"\\n\").replace(\";\",\" \").replace(\"\\n\",\" \").replace(\"\\t\",\" \").replace(\"\\r\",\"\")\n",
        "events['orari'] = events.orari.str.replace(\"“\",\"\").replace(\"”\",\"\")"
      ]
    },
    {
      "cell_type": "code",
      "execution_count": 142,
      "metadata": {
        "id": "7gqYisgQkvlH"
      },
      "outputs": [],
      "source": [
        "#events[\"org_esterna\"] = events['org_esterna'].str.lstrip(\" \").replace(\";\",\" \").replace(\"\\n\",\" \").replace(\"\\t\",).replace(\"\\r\",\"\")\n",
        "#events[\"org_esterna\"] = events['org_esterna'].str.lstrip(\"\\n\")\n",
        "#events[\"org_esterna\"] = events['org_esterna'].replace(\"\\n\",\" \")\n",
        "#events['org_esterna'] = events.org_esterna.str.replace(\"“\",\"\").replace(\"”\",\"\")"
      ]
    },
    {
      "cell_type": "code",
      "execution_count": 143,
      "metadata": {
        "id": "1jS-6KK1kvlJ"
      },
      "outputs": [],
      "source": [
        "events[\"prezzo\"] = events['prezzo'].str.lstrip(\" \").replace(\";\",\" \")\n",
        "events[\"prezzo\"] = events['prezzo'].str.lstrip(\"\\n\").replace(\"\\n\",\" \").replace(\"\\t\",\" \").replace(\"\\r\",\" \")\n",
        "events['prezzo'] = events.prezzo.str.replace(\"“\",\"\").replace(\"”\",\"\")"
      ]
    },
    {
      "cell_type": "code",
      "execution_count": 144,
      "metadata": {
        "id": "-ssG25-vkvlL"
      },
      "outputs": [],
      "source": [
        "events.to_csv(\"eventi_modena.csv\",sep=\";\",index=False,encoding=\"utf-8\")"
      ]
    },
    {
      "cell_type": "code",
      "execution_count": 145,
      "metadata": {
        "id": "jzgYjytxkvlO"
      },
      "outputs": [],
      "source": [
        "geo_events = gpd.GeoDataFrame(\n",
        "    events, geometry=gpd.points_from_xy(events['longitudine'], events['latitudine']))"
      ]
    },
    {
      "cell_type": "code",
      "execution_count": 226,
      "metadata": {},
      "outputs": [],
      "source": [
        "events['q'] = events['longitudine'].apply(lambda x: len(x) if (x != None) else 0)"
      ]
    },
    {
      "cell_type": "code",
      "execution_count": 227,
      "metadata": {},
      "outputs": [
        {
          "data": {
            "text/plain": [
              "18"
            ]
          },
          "execution_count": 227,
          "metadata": {},
          "output_type": "execute_result"
        }
      ],
      "source": [
        "events.q.max()"
      ]
    },
    {
      "cell_type": "code",
      "execution_count": 146,
      "metadata": {
        "id": "zZo0XKlZkvlR"
      },
      "outputs": [],
      "source": [
        "#geo_events.to_csv(\"geo_eventi_modena.csv\",sep=\";\",index=False,encoding=\"utf-8\")"
      ]
    },
    {
      "cell_type": "code",
      "execution_count": 147,
      "metadata": {
        "id": "1WZfxNBlkvlT"
      },
      "outputs": [
        {
          "name": "stderr",
          "output_type": "stream",
          "text": [
            "<ipython-input-147-7f0777c67fc3>:3: UserWarning: Column names longer than 10 characters will be truncated when saved to ESRI Shapefile.\n",
            "  geo_events.to_file(\"eventi_modena.shp\",encoding='utf-8')\n"
          ]
        }
      ],
      "source": [
        "geo_events.set_crs(4326,inplace=True)\n",
        "os.chdir(\"docs/eventi\")\n",
        "geo_events.to_file(\"eventi_modena.shp\",encoding='utf-8')\n",
        "zipObj = ZipFile('eventi_modena.zip', 'w')\n",
        "zipObj.write('eventi_modena.shp')\n",
        "zipObj.write('eventi_modena.shx')\n",
        "zipObj.write('eventi_modena.prj')\n",
        "zipObj.write('eventi_modena.dbf')\n",
        "zipObj.close()\n"
      ]
    },
    {
      "cell_type": "code",
      "execution_count": 148,
      "metadata": {
        "id": "LXM0bNb5kvlX"
      },
      "outputs": [],
      "source": [
        "events.to_csv(\"eventi_modena.csv\",sep=\";\",index=False)"
      ]
    },
    {
      "cell_type": "code",
      "execution_count": 149,
      "metadata": {
        "id": "rV00ry-1kvlZ"
      },
      "outputs": [],
      "source": [
        "events.longitudine = events.longitudine.apply(lambda x: str(x).replace(\".\",\",\"))\n",
        "events.latitudine = events.latitudine.apply(lambda x: str(x).replace(\".\",\",\"))"
      ]
    },
    {
      "cell_type": "code",
      "execution_count": 150,
      "metadata": {
        "id": "lHxv81-qkvlc"
      },
      "outputs": [],
      "source": [
        "events.to_csv(\"eventi_modena_coordinate_con_virgola.csv\",sep=\";\",index=False)"
      ]
    },
    {
      "cell_type": "code",
      "execution_count": 151,
      "metadata": {
        "id": "QJZfwOrFkvld"
      },
      "outputs": [],
      "source": [
        "events.to_excel(\"eventi_modena.xlsx\",index=False, sheet_name=\"eventi\")"
      ]
    },
    {
      "cell_type": "code",
      "execution_count": 152,
      "metadata": {
        "id": "CNB7uyckkvlf"
      },
      "outputs": [],
      "source": [
        "os.chdir(\"../..\")"
      ]
    },
    {
      "cell_type": "code",
      "execution_count": 153,
      "metadata": {
        "id": "rEkwLDjhkvli"
      },
      "outputs": [],
      "source": [
        "servizi = \"https://www.comune.modena.it/api/@search?portal_type=UnitaOrganizzativa&path.query=/amministrazione/aree-amministrative&path.depth=2&fullobjects=1&b_size=10000\"\n",
        "r = requests.get(servizi, headers=headers)\n",
        "r.encoding = 'UTF-8'\n",
        "data = r.json()\n",
        "data_items = pd.DataFrame(data['items'])"
      ]
    },
    {
      "cell_type": "code",
      "execution_count": 154,
      "metadata": {
        "id": "LoylPBmokvlk"
      },
      "outputs": [],
      "source": [
        "filter=['@id','title','street','zip_code','email','telefono','fax','geolocation',\n",
        "'legami_con_altre_strutture',\n",
        "'orario_pubblico','pec','web',\n",
        "'competenze','modified']"
      ]
    },
    {
      "cell_type": "code",
      "execution_count": 155,
      "metadata": {
        "id": "FOdf46Yskvln"
      },
      "outputs": [],
      "source": [
        "table = data_items[filter]\n",
        "table= table.rename(columns={'title':'nome',\"street\":\"via\",\"zip_code\":\"cap\",\"modified\":\"data_ultima_modifica\"})\n",
        "table= table.rename(columns={'effective':'data_pubblicazione'})\n",
        "table['latitudine']= table.geolocation.apply(lambda x:  x['latitude'] if(x != None) else x)\n",
        "table['longitudine']= table.geolocation.apply(lambda x:  x['longitude'] if(x != None) else x)\n",
        "del table['geolocation']"
      ]
    },
    {
      "cell_type": "code",
      "execution_count": 156,
      "metadata": {
        "id": "054mRAlckvlr"
      },
      "outputs": [],
      "source": [
        "def extractOrarioPubblico(value):\n",
        "    orario = \"\"\n",
        "    try:\n",
        "        for i in range(len(value['blocks'])):\n",
        "            for k in list(value['blocks'].keys()):\n",
        "                bk= value['blocks'][k]\n",
        "                for b in bk['text']['blocks']:\n",
        "                    orario = orario + \" \"+ b['text']\n",
        "    except KeyError:\n",
        "        pass\n",
        "    return orario  "
      ]
    },
    {
      "cell_type": "code",
      "execution_count": 157,
      "metadata": {
        "id": "NYiqKzMnkvlt"
      },
      "outputs": [],
      "source": [
        "table['orario_al_pubblico'] = table.orario_pubblico.apply(lambda x:  extractOrarioPubblico(x))\n",
        "del table['orario_pubblico']\n",
        "table['cap'] = table.cap.apply(lambda x: 41123 if(x == None) else x)\n",
        "table['fax'] = table.fax.apply(lambda x: x.lstrip(\"\\t\") if(x != None) else x)"
      ]
    },
    {
      "cell_type": "code",
      "execution_count": 158,
      "metadata": {
        "id": "E0Mdbzcgkvlv"
      },
      "outputs": [],
      "source": [
        "def extractCompetenze(value):\n",
        "    competenze = \"\"\n",
        "    try:\n",
        "        for i in range(len(value['blocks'])):\n",
        "            for k in list(value['blocks'].keys()):\n",
        "                bk= value['blocks'][k]\n",
        "                for b in bk['text']['blocks']:\n",
        "                    competenze = competenze + \"||\"+ b['text']\n",
        "    except KeyError:\n",
        "        pass\n",
        "    competenze = competenze.lstrip(\"||\")\n",
        "    return competenze  "
      ]
    },
    {
      "cell_type": "code",
      "execution_count": 159,
      "metadata": {
        "id": "cwMDSO5mkvly"
      },
      "outputs": [],
      "source": [
        "table['competenze'] = table.competenze.apply(lambda x:  extractCompetenze(x))\n",
        "table['competenze'] = table.competenze.apply(lambda x:  x.replace(\"\\n\",\" \"))\n",
        "table['competenze'] = table.competenze.apply(lambda x:  x.replace(\"\\xa0\",\" \"))\n",
        "table['competenze'] = table.competenze.apply(lambda x:  x.replace(\"|| \",\"||\"))"
      ]
    },
    {
      "cell_type": "code",
      "execution_count": 160,
      "metadata": {
        "id": "1TdSq9Xzkvl1"
      },
      "outputs": [],
      "source": [
        "#def getPosizioneOrganizzativa(value):\n",
        "#    v = \"\"\n",
        "#    if value.find(\"Posizione Organizzativa: \") > 0:\n",
        "##        v = value.split('Posizione Organizzativa: ')[1].split(\"||\")[0]\n",
        "#    v = v.lstrip(\"\\n\")\n",
        "#    v = v.rstrip(\"\\n\")\n",
        "#    return v"
      ]
    },
    {
      "cell_type": "code",
      "execution_count": 161,
      "metadata": {
        "id": "5f5Ac32fkvl3"
      },
      "outputs": [],
      "source": [
        "nomi = list(table['nome'].unique())"
      ]
    },
    {
      "cell_type": "code",
      "execution_count": 162,
      "metadata": {
        "id": "d0Hdl6xdkvl5"
      },
      "outputs": [],
      "source": [
        "df_competenze = pd.DataFrame()\n",
        "for nome in nomi:\n",
        "    data_competenze = {}\n",
        "    competenze = table[table['nome'] == nome]['competenze'].values[0].split(\"||\")\n",
        "    nome_data = []\n",
        "    for i in range(len(competenze)):\n",
        "        nome_data.append(nome)\n",
        "    df = pd.DataFrame({'nome':nome_data,'competenze':competenze}).drop_duplicates()\n",
        "    df['competenze'] = df['competenze'].apply(lambda x: x.lstrip())\n",
        "    df['competenze'] = df['competenze'].apply(lambda x: x.rstrip())\n",
        "    df_competenze = pd.concat([df_competenze,df])"
      ]
    },
    {
      "cell_type": "code",
      "execution_count": 163,
      "metadata": {
        "id": "3UMW0cv6kvl6"
      },
      "outputs": [],
      "source": [
        "df_competenze = df_competenze[df_competenze['competenze'] != 'Competenze']\n",
        "del table['competenze']\n",
        "table['pagina_web'] = table['@id'].apply(lambda x: x.replace('/api',\"\"))\n",
        "del table['@id']"
      ]
    },
    {
      "cell_type": "code",
      "execution_count": 164,
      "metadata": {
        "id": "sklTlfCXkvl9"
      },
      "outputs": [],
      "source": [
        "def getLegamiAltreStrutture(value):\n",
        "    v = \"\"\n",
        "    if (value != \"\"):\n",
        "        for t in value:\n",
        "            v = v +\"||\" + t['title']\n",
        "    v = v.lstrip(\"||\")\n",
        "    return v"
      ]
    },
    {
      "cell_type": "code",
      "execution_count": 165,
      "metadata": {
        "id": "Y8Z7A90Gkvl-"
      },
      "outputs": [],
      "source": [
        "table['legami'] = table.legami_con_altre_strutture.apply(lambda x: getLegamiAltreStrutture(x))"
      ]
    },
    {
      "cell_type": "code",
      "execution_count": 166,
      "metadata": {
        "id": "BshsIS67kvmA"
      },
      "outputs": [],
      "source": [
        "df_legami = pd.DataFrame()\n",
        "for nome in nomi:\n",
        "    data_legami = {}\n",
        "    legami = table[table['nome'] == nome]['legami'].values[0].split(\"||\")\n",
        "    nome_data = []\n",
        "    for i in range(len(legami)):\n",
        "        nome_data.append(nome)\n",
        "    df = pd.DataFrame({'struttura':nome_data,'struttura_collegata':legami}).drop_duplicates()\n",
        "    df_legami = pd.concat([df_legami,df])"
      ]
    },
    {
      "cell_type": "code",
      "execution_count": 167,
      "metadata": {
        "id": "VyeTugL-kvmC"
      },
      "outputs": [],
      "source": [
        "df_legami = df_legami[df_legami['struttura_collegata'] != '']"
      ]
    },
    {
      "cell_type": "code",
      "execution_count": 168,
      "metadata": {
        "id": "TnY8nx_akvmD"
      },
      "outputs": [],
      "source": [
        "del table['legami_con_altre_strutture']\n",
        "del table['legami']"
      ]
    },
    {
      "cell_type": "code",
      "execution_count": 169,
      "metadata": {
        "id": "sVF8MbKrkvmF"
      },
      "outputs": [],
      "source": [
        "def completeLat(id,df):\n",
        "    row = df[df['nome'] == id]\n",
        "    lat = row['latitudine'].values[0]\n",
        "    if (lat == 0):\n",
        "        v = row['via'].values[0]\n",
        "        if v == \"Via Santi, 60\":\n",
        "            lat = '44.655952' #\t10.915423\n",
        "        if v == 'Via Galaverna, 8':\n",
        "            lat = '44.655039'\n",
        "    return(lat)\n",
        "def completeLon(id,df):\n",
        "    row = df[df['nome'] == id]\n",
        "    lon = row['longitudine'].values[0]\n",
        "    if (lon == 0):\n",
        "        v = row['via'].values[0]\n",
        "        if v == \"Via Santi, 60\":\n",
        "            lon = '10.915423'\n",
        "        if v == 'Via Galaverna, 8':\n",
        "            lon = '10.914606'\n",
        "    return(lon)"
      ]
    },
    {
      "cell_type": "code",
      "execution_count": 170,
      "metadata": {
        "id": "303fatwekvmJ"
      },
      "outputs": [],
      "source": [
        "table['latitudine'] = table.nome.apply(lambda x: completeLat(x,table))\n",
        "table['longitudine'] = table.nome.apply(lambda x: completeLon(x,table))"
      ]
    },
    {
      "cell_type": "code",
      "execution_count": 171,
      "metadata": {
        "id": "U85cZjZIkvmL"
      },
      "outputs": [],
      "source": [
        "table.to_csv(\"docs/strutture/elenco_strutture.csv\",sep=\";\",index=False,encoding=\"utf-8\")\n",
        "df_legami.to_csv(\"docs/strutture/relazioni_fra_strutture.csv\",sep=\";\",index=False,encoding=\"utf-8\")\n",
        "df_competenze.to_csv(\"docs/strutture/competenze_strutture.csv\",sep=\";\",index=False,encoding=\"utf-8\")"
      ]
    }
  ],
  "metadata": {
    "colab": {
      "collapsed_sections": [],
      "name": "scrape.ipynb",
      "provenance": []
    },
    "interpreter": {
      "hash": "e7370f93d1d0cde622a1f8e1c04877d8463912d04d973331ad4851f04de6915a"
    },
    "kernelspec": {
      "display_name": "Python 3.9.7 64-bit",
      "language": "python",
      "name": "python3"
    },
    "language_info": {
      "codemirror_mode": {
        "name": "ipython",
        "version": 3
      },
      "file_extension": ".py",
      "mimetype": "text/x-python",
      "name": "python",
      "nbconvert_exporter": "python",
      "pygments_lexer": "ipython3",
      "version": "3.9.7"
    },
    "orig_nbformat": 4
  },
  "nbformat": 4,
  "nbformat_minor": 0
}
